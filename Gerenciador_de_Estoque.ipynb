{
  "nbformat": 4,
  "nbformat_minor": 0,
  "metadata": {
    "colab": {
      "provenance": [],
      "include_colab_link": true
    },
    "kernelspec": {
      "name": "python3",
      "display_name": "Python 3"
    },
    "language_info": {
      "name": "python"
    }
  },
  "cells": [
    {
      "cell_type": "markdown",
      "metadata": {
        "id": "view-in-github",
        "colab_type": "text"
      },
      "source": [
        "<a href=\"https://colab.research.google.com/github/hiara05/atividade-DS/blob/main/Gerenciador_de_Estoque.ipynb\" target=\"_parent\"><img src=\"https://colab.research.google.com/assets/colab-badge.svg\" alt=\"Open In Colab\"/></a>"
      ]
    },
    {
      "cell_type": "markdown",
      "source": [
        "# Gerenciador de Estoque"
      ],
      "metadata": {
        "id": "GZoXHfu18XZW"
      }
    },
    {
      "cell_type": "markdown",
      "source": [
        "Este é um programa desenvolvido em Python para gerenciar o estoque de produtos de forma prática e eficiente. Com ele, é possível cadastrar novos produtos, acompanhar quantidades disponíveis, atualizar preços e visualizar relatórios rápidos do estoque. A ideia é facilitar o controle e a organização, tornando a gestão mais ágil e confiável."
      ],
      "metadata": {
        "id": "arTtO5X59HC5"
      }
    },
    {
      "cell_type": "markdown",
      "source": [
        "\n",
        "\n",
        "---\n",
        "\n"
      ],
      "metadata": {
        "id": "fN6bjQ2u9OXo"
      }
    },
    {
      "cell_type": "markdown",
      "source": [
        "## main.py"
      ],
      "metadata": {
        "id": "HsVSgirK9QTU"
      }
    },
    {
      "cell_type": "code",
      "execution_count": null,
      "metadata": {
        "id": "DavDJtPF8JXw"
      },
      "outputs": [],
      "source": [
        "import streamlit as st\n",
        "from cadastro import telacadastro\n",
        "from venda import telavenda\n",
        "\n",
        "st.title(\"Seja bem vindo à tela inicial! selecione uma das opcoes abaixo!\")\n",
        "\n",
        "pagina = st.selectbox(\"Ir para:\", [\"Inicio\", \"Cadastro de Produtos\", \"Registro de Vendas\"])\n",
        "\n",
        "if pagina == \"Cadastro de Produtos\":\n",
        "    telacadastro()\n",
        "elif pagina == \"Registro de Vendas\":\n",
        "    telavenda()"
      ]
    },
    {
      "cell_type": "markdown",
      "source": [
        "\n",
        "\n",
        "---\n",
        "\n"
      ],
      "metadata": {
        "id": "WDKDmp-09jEU"
      }
    },
    {
      "cell_type": "markdown",
      "source": [
        "## classProduto.py\n"
      ],
      "metadata": {
        "id": "yJ4UlH889kGG"
      }
    },
    {
      "cell_type": "code",
      "source": [
        "class Produto:\n",
        "    def __init__ (self, nome, preco, quantidade):\n",
        "        self.nome = nome\n",
        "        self.preco = preco\n",
        "        self.quantidade = quantidade\n",
        "\n",
        "    def registro(self):\n",
        "        with open('produtos.txt', 'a') as arquivo:\n",
        "            arquivo.write (f'{self.nome};{self.preco};{self.quantidade}\\n')"
      ],
      "metadata": {
        "id": "wfXbrtEZ9rs-"
      },
      "execution_count": null,
      "outputs": []
    },
    {
      "cell_type": "markdown",
      "source": [
        "\n",
        "\n",
        "---\n",
        "\n"
      ],
      "metadata": {
        "id": "5erwbEWi9u-M"
      }
    },
    {
      "cell_type": "markdown",
      "source": [
        "## classVenda.py"
      ],
      "metadata": {
        "id": "fU5Eij059vmb"
      }
    },
    {
      "cell_type": "code",
      "source": [
        "class Venda:\n",
        "    def __init__(self, data, produto_vendido, quantidade, total):\n",
        "        self.data = data\n",
        "        self.produto_vendido = produto_vendido\n",
        "        self.quantidade = quantidade\n",
        "        self.total = total\n",
        "\n",
        "    def registrar_venda(self):\n",
        "        with open('vendas.txt', 'a') as arquivo:\n",
        "            arquivo.write(f'{self.data};{self.produto_vendido};{self.quantidade};{self.total}\\n')\n"
      ],
      "metadata": {
        "id": "8eO6Uhdd_hhh"
      },
      "execution_count": null,
      "outputs": []
    },
    {
      "cell_type": "markdown",
      "source": [
        "\n",
        "\n",
        "---\n",
        "\n"
      ],
      "metadata": {
        "id": "i94hhyJHBWi8"
      }
    },
    {
      "cell_type": "markdown",
      "source": [
        "## cadastro.py"
      ],
      "metadata": {
        "id": "4p66YWMGBbnM"
      }
    },
    {
      "cell_type": "code",
      "source": [
        "import streamlit as st\n",
        "import os\n",
        "from classProduto import Produto\n",
        "\n",
        "def telacadastro():\n",
        "    st.title(\"Controle de estoque: CADASTRO de Produtos\")\n",
        "    st.markdown(\"___\")\n",
        "\n",
        "    nome = st.text_input('digite o nome do produto')\n",
        "    preco = st.number_input ('digite o preco do produto', min_value=0.0, format=\"%.2f\")\n",
        "    quantidade = st.number_input('digite a quantidade do produto', min_value=0)\n",
        "\n",
        "    if st.button(\"Cadastrar Produto\"):\n",
        "        if nome.strip() == \"\":\n",
        "            st.warning(\"insira o nome do produto!!!\")\n",
        "        else:\n",
        "            produto = Produto(nome, preco, quantidade)\n",
        "            produto.registro()\n",
        "            st.success(\"produto salvo com sucesso!\")\n",
        "\n",
        "    if os.path.exists(\"produtos.txt\"):\n",
        "        with open(\"produtos.txt\", \"r\") as arquivo:\n",
        "            for linha in arquivo:\n",
        "                linha = linha.strip()\n",
        "                if linha:\n",
        "                    nome_produto, preco_produto, quantidade_produto = linha.split(';')\n",
        "                    st.markdown('___')\n",
        "                    st.write(f'Nome: {nome_produto} | Preco: {preco_produto} | Quantidade: {quantidade_produto}')"
      ],
      "metadata": {
        "id": "oaez5YdQBl70"
      },
      "execution_count": null,
      "outputs": []
    },
    {
      "cell_type": "markdown",
      "source": [
        "\n",
        "\n",
        "---\n",
        "\n"
      ],
      "metadata": {
        "id": "oSH2UM-QBrvu"
      }
    },
    {
      "cell_type": "markdown",
      "source": [
        "## venda.py"
      ],
      "metadata": {
        "id": "C8VstEreBsvq"
      }
    },
    {
      "cell_type": "code",
      "source": [
        "import streamlit as st\n",
        "import os\n",
        "import datetime\n",
        "from classVenda import Venda\n",
        "\n",
        "def telavenda():\n",
        "    st.title(\"Controle de estoque: VENDA de Produtos\")\n",
        "    st.markdown(\"___\")\n",
        "\n",
        "    data= st.date_input (\"Data da venda \", value=datetime.date.today())\n",
        "    produto_vendido = st.text_input (\"Nome do produto vendido\")\n",
        "    quantidade = st.number_input (\"Quantidade do produto vendido\", min_value=1, step=1)\n",
        "    preco_unitario = st.number_input (\"Preco unitario do produto\", min_value=0.0, format=\"%.2f\")\n",
        "\n",
        "    if st.button(\"Registrar Venda\"):\n",
        "        if produto_vendido.strip() == \"\":\n",
        "            st.warning(\"Digite o nome do produto!\")\n",
        "        else:\n",
        "            if not os.path.exists(\"produtos.txt\"):\n",
        "                st.error(\"Nenhum produto cadastrado ainda!\")\n",
        "            else:\n",
        "                produtos = []\n",
        "                produto_encontrado = False\n",
        "                estoque_suficiente = False\n",
        "\n",
        "                with open(\"produtos.txt\", \"r\") as arquivo:\n",
        "                    for linha in arquivo:\n",
        "                        nome, preco, qtd = linha.strip().split(\";\")\n",
        "                        qtd = int(qtd)\n",
        "                        if nome == produto_vendido:\n",
        "                            produto_encontrado = True\n",
        "                            if qtd >= quantidade:\n",
        "                                qtd -= quantidade\n",
        "                                estoque_suficiente = True\n",
        "                            else:\n",
        "                                st.error(f\"Estoque insuficiente! So tem {qtd} unidades.\")\n",
        "                        produtos.append((nome, preco, qtd))\n",
        "\n",
        "                if not produto_encontrado:\n",
        "                    st.error(\"Produto nao encontrado no estoque.\")\n",
        "                elif estoque_suficiente:\n",
        "                    with open(\"produtos.txt\", \"w\") as arquivo:\n",
        "                        for nome, preco, qtd in produtos:\n",
        "                            arquivo.write(f\"{nome};{preco};{qtd}\\n\")\n",
        "\n",
        "                    total = quantidade * preco_unitario\n",
        "                    venda = Venda(data, produto_vendido, quantidade, total)\n",
        "                    venda.registrar_venda()\n",
        "                    st.success(f\"Venda registrada com sucesso! Valor total: R$ {total:.2f}\")\n",
        "\n",
        "    if os.path.exists(\"vendas.txt\"):\n",
        "        st.subheader(\"Historico de Vendas\")\n",
        "        with open(\"vendas.txt\", \"r\") as arquivo:\n",
        "            for linha in arquivo:\n",
        "                linha = linha.strip()\n",
        "                if linha:\n",
        "                    data_venda, produto, qtd, total = linha.split(\";\")\n",
        "                    st.write(f\"Data: {data_venda} | Produto: {produto} | Qtd: {qtd} | Total: R$ {total}\")\n"
      ],
      "metadata": {
        "id": "OF0S3DVCBvLf"
      },
      "execution_count": null,
      "outputs": []
    },
    {
      "cell_type": "markdown",
      "source": [
        "\n",
        "\n",
        "\n",
        "---\n"
      ],
      "metadata": {
        "id": "Gps87JDCPbtm"
      }
    },
    {
      "cell_type": "markdown",
      "source": [
        "# Agora, vamos modificar em partes este código para utilizarmos uma API para cadastro das pessoas!\n"
      ],
      "metadata": {
        "id": "Pxs07uUaPOvB"
      }
    },
    {
      "cell_type": "markdown",
      "source": [
        "## classCliente.py\n"
      ],
      "metadata": {
        "id": "r7LW-3Q7PfDl"
      }
    },
    {
      "cell_type": "code",
      "source": [
        "import requests\n",
        "\n",
        "class Cliente:\n",
        "    def __init__(self, cpf, nome, nascimento, cep, endereco, telefone):\n",
        "        self.cpf = cpf\n",
        "        self.nome = nome\n",
        "        self.nascimento = nascimento\n",
        "        self.cep = cep\n",
        "        self.endereco = endereco\n",
        "        self.telefone = telefone\n",
        "\n",
        "    def salvar(self):\n",
        "        with open(\"clientes.txt\", \"a\") as arquivo:\n",
        "            arquivo.write(f\"{self.cpf};{self.nome};{self.nascimento};{self.cep};{self.endereco};{self.telefone}\\n\")\n",
        "\n",
        "    @staticmethod\n",
        "    def buscar_endereco(cep):\n",
        "        url = f\"https://brasilapi.com.br/api/cep/v1/{cep}\"\n",
        "        resposta = requests.get(url)\n",
        "        if resposta.status_code == 200:\n",
        "            dados = resposta.json()\n",
        "            return f\"{dados['street']}, {dados['neighborhood']}, {dados['city']}-{dados['state']}\"\n",
        "        else:\n",
        "            return \"Endereco nao encontrado\"\n"
      ],
      "metadata": {
        "id": "0tXqArqSPqcN"
      },
      "execution_count": null,
      "outputs": []
    },
    {
      "cell_type": "markdown",
      "source": [
        "## cadastro_cliente.py"
      ],
      "metadata": {
        "id": "AzVB14oAPrsW"
      }
    },
    {
      "cell_type": "code",
      "source": [
        "import streamlit as st\n",
        "from classCliente import Cliente\n",
        "\n",
        "st.header(\"Cadastro de Clientes\")\n",
        "\n",
        "cpf = st.text_input(\"CPF\")\n",
        "nome = st.text_input(\"Nome completo\")\n",
        "nascimento = st.date_input(\"Data de nascimento\")\n",
        "cep = st.text_input(\"CEP\")\n",
        "telefone = st.text_input(\"Telefone\")\n",
        "\n",
        "endereco = \"\"\n",
        "if cep.strip() != \"\":\n",
        "    endereco = Cliente.buscar_endereco(cep)\n",
        "    st.write(\"Endereco encontrado:\", endereco)\n",
        "\n",
        "if st.button(\"Cadastrar Cliente\"):\n",
        "    if cpf.strip() == \"\" or nome.strip() == \"\":\n",
        "        st.warning(\"Preencha os campos obrigatorios\")\n",
        "    else:\n",
        "        cliente = Cliente(cpf, nome, str(nascimento), cep, endereco, telefone)\n",
        "        cliente.salvar()\n",
        "        st.success(\"Cliente cadastrado com sucesso!\")\n",
        "\n",
        "# Exibir clientes cadastrados\n",
        "st.subheader(\"Clientes cadastrados\")\n",
        "try:\n",
        "    with open(\"clientes.txt\", \"r\") as arquivo:\n",
        "        for linha in arquivo:\n",
        "            dados = linha.strip().split(\";\")\n",
        "            if len(dados) == 6:\n",
        "                st.write(f\"CPF: {dados[0]} | Nome: {dados[1]} | Nascimento: {dados[2]} | Endereco: {dados[4]} | Telefone: {dados[5]}\")\n",
        "except FileNotFoundError:\n",
        "    st.info(\"Nenhum cliente cadastrado ainda.\")\n"
      ],
      "metadata": {
        "id": "105GJ37WPvxs"
      },
      "execution_count": null,
      "outputs": []
    },
    {
      "cell_type": "markdown",
      "source": [
        "## venda.py\n"
      ],
      "metadata": {
        "id": "75VDTEgzPymU"
      }
    },
    {
      "cell_type": "code",
      "source": [
        "import streamlit as st\n",
        "import datetime\n",
        "from classVenda import Venda\n",
        "\n",
        "st.header(\"Venda de Produtos\")\n",
        "\n",
        "data = st.date_input(\"Data da venda\", datetime.date.today())\n",
        "\n",
        "# Selecionar cliente\n",
        "clientes = []\n",
        "try:\n",
        "    with open(\"clientes.txt\", \"r\") as arquivo:\n",
        "        for linha in arquivo:\n",
        "            dados = linha.strip().split(\";\")\n",
        "            if len(dados) == 6:\n",
        "                clientes.append(f\"{dados[0]} - {dados[1]}\")\n",
        "except FileNotFoundError:\n",
        "    pass\n",
        "\n",
        "cliente_escolhido = st.selectbox(\"Selecione o cliente\", clientes)\n",
        "\n",
        "# Produto e venda\n",
        "produto_vendido = st.text_input(\"Nome do produto vendido\")\n",
        "quantidade = st.number_input(\"Quantidade do produto vendido\", min_value=1)\n",
        "preco_unitario = st.number_input(\"Preco unitario do produto\", min_value=0.0, format=\"%.2f\")\n",
        "total = preco_unitario * quantidade\n",
        "\n",
        "if st.button(\"Registrar Venda\"):\n",
        "    if produto_vendido.strip() == \"\" or cliente_escolhido == \"\":\n",
        "        st.warning(\"Preencha todos os campos\")\n",
        "    else:\n",
        "        venda = Venda(str(data), produto_vendido, quantidade, total, cliente_escolhido)\n",
        "        venda.registrar_venda()\n",
        "        st.success(\"Venda registrada com sucesso!\")\n",
        "\n",
        "st.write(f\"Total da venda: {total:.2f}\")\n"
      ],
      "metadata": {
        "id": "Kkr9w-aBP0v8"
      },
      "execution_count": null,
      "outputs": []
    },
    {
      "cell_type": "markdown",
      "source": [
        "## classVenda.py"
      ],
      "metadata": {
        "id": "KTz5svWuQTA6"
      }
    },
    {
      "cell_type": "code",
      "source": [
        "class Venda:\n",
        "    def __init__(self, data, produto_vendido, quantidade, total, cliente):\n",
        "        self.data = data\n",
        "        self.produto_vendido = produto_vendido\n",
        "        self.quantidade = quantidade\n",
        "        self.total = total\n",
        "        self.cliente = cliente\n",
        "\n",
        "    def registrar_venda(self):\n",
        "        with open(\"vendas.txt\", \"a\") as arquivo:\n",
        "            arquivo.write(f\"{self.data};{self.produto_vendido};{self.quantidade};{self.total};{self.cliente}\\n\")\n"
      ],
      "metadata": {
        "id": "BOqOVCjqQWcC"
      },
      "execution_count": null,
      "outputs": []
    },
    {
      "cell_type": "markdown",
      "source": [
        "exemplo de como ficaria um arquivo JSON\n",
        "## Nova seção"
      ],
      "metadata": {
        "id": "EpiSbv90Rijo"
      }
    },
    {
      "cell_type": "code",
      "source": [
        "  \"cpf\": \"98765432100\",\n",
        "        \"nome\": \"Maria Oliveira\",\n",
        "        \"data_nascimento\": \"1995-08-20\",\n",
        "        \"endereco\": {\n",
        "            \"cep\": \"30140071\",\n",
        "            \"logradouro\": \"Avenida Afonso Pena\",\n",
        "            \"bairro\": \"Centro\",\n",
        "            \"cidade\": \"Belo Horizonte\",\n",
        "            \"estado\": \"MG\"\n",
        "        },\n",
        "        \"telefone\": \"(31) 98888-8888\""
      ],
      "metadata": {
        "id": "-zRzgFkiRmcw"
      },
      "execution_count": null,
      "outputs": []
    }
  ]
}